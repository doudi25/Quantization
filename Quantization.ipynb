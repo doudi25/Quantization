{
 "cells": [
  {
   "cell_type": "code",
   "id": "initial_id",
   "metadata": {
    "collapsed": true,
    "ExecuteTime": {
     "end_time": "2024-08-16T17:24:06.201265Z",
     "start_time": "2024-08-16T17:24:06.196559Z"
    }
   },
   "source": [
    "import torch \n",
    "import math"
   ],
   "outputs": [],
   "execution_count": 4
  },
  {
   "metadata": {
    "ExecuteTime": {
     "end_time": "2024-08-16T20:57:03.251923Z",
     "start_time": "2024-08-16T20:57:03.240475Z"
    }
   },
   "cell_type": "code",
   "source": [
    "class Quantization:\n",
    "    def __init__(self,quant_params):\n",
    "        self.quant_params = quant_params\n",
    "    @staticmethod\n",
    "    def clamping(quant_params : torch.Tensor,lower_bound: int,upper_bound: int)->torch.Tensor:\n",
    "        quant_params[quant_params < lower_bound] = lower_bound\n",
    "        quant_params[quant_params > upper_bound] = upper_bound\n",
    "        return quant_params\n",
    "    def asym_quant(self,lower_bound=0,upper_bound=(2**8)-1)-> torch.Tensor:\n",
    "        alpha = torch.max(self.quant_params)\n",
    "        beta = torch.min(self.quant_params)\n",
    "        self.scale_asym = (alpha - beta) / upper_bound\n",
    "        self.zero_v = torch.round(-beta/self.scale_asym)\n",
    "        self.asym_quant = Quantization.clamping(self.quant_params/self.scale_asym + self.zero_v,lower_bound,upper_bound).int()\n",
    "        return self.asym_quant\n",
    "    def asym_quant_perc(self,lower_bound=0,upper_bound=255,percentile : float=99.99):\n",
    "        alpha = torch.percentile(self.quant_params,percentile)\n",
    "        beta  = torch.percentile(self.quant_params,100-percentile)\n",
    "        self.scale_asym_per = (alpha-beta)/upper_bound\n",
    "        self.zero_per = torch.round(-beta/self.scale_asym_per)\n",
    "        self.asym_quant_per = Quantization.clamping(self.quant_params/self.scale_asym_per+self.zero_per,lower_bound,upper_bound).int()\n",
    "    def sym_quant(self,lower_bound=-(2**7)+1,upper_bound=(2**7)-1)-> torch.Tensor:\n",
    "        alpha = torch.max(torch.abs(self.quant_params))\n",
    "        scale = alpha / upper_bound\n",
    "        self.scale_sym = scale\n",
    "        quant_params = Quantization.clamping(self.quant_params/scale,lower_bound,upper_bound)\n",
    "        self.sym_quant = quant_params.int()\n",
    "        return self.sym_quant\n",
    "    def asym_dequant(self)->torch.Tensor:\n",
    "        return self.scale_asym * (self.asym_quant - self.zero_v)\n",
    "    def sym_dequant(self):\n",
    "        return self.scale_sym * self.sym_quant\n",
    "    def asym_dequant_per(self):\n",
    "        return self.scale_asym_per * (self.asym_quant_per - self.zero_per)\n",
    "    \n",
    "        \n",
    "        \n",
    "        "
   ],
   "id": "19a175d10bdc99a5",
   "outputs": [],
   "execution_count": 55
  }
 ],
 "metadata": {
  "kernelspec": {
   "display_name": "Python 3",
   "language": "python",
   "name": "python3"
  },
  "language_info": {
   "codemirror_mode": {
    "name": "ipython",
    "version": 2
   },
   "file_extension": ".py",
   "mimetype": "text/x-python",
   "name": "python",
   "nbconvert_exporter": "python",
   "pygments_lexer": "ipython2",
   "version": "2.7.6"
  }
 },
 "nbformat": 4,
 "nbformat_minor": 5
}
